{
 "cells": [
  {
   "cell_type": "markdown",
   "metadata": {},
   "source": [
    "# Kaggle\n",
    "## Titanic: Machine Learning from Disaster"
   ]
  },
  {
   "cell_type": "code",
   "execution_count": 1,
   "metadata": {
    "collapsed": true
   },
   "outputs": [],
   "source": [
    "# 加载包\n",
    "import pandas as pd\n",
    "import numpy as np\n",
    "import xgboost as xgb"
   ]
  },
  {
   "cell_type": "markdown",
   "metadata": {},
   "source": [
    "## 步骤\n",
    "\n",
    "- 1.加载数据\n",
    "- 2.观察训练数据分布\n",
    "- 3.处理特征\n",
    "- 4.训练模型\n",
    "- 5.验证"
   ]
  },
  {
   "cell_type": "markdown",
   "metadata": {},
   "source": [
    "## 1 加载数据"
   ]
  },
  {
   "cell_type": "code",
   "execution_count": 2,
   "metadata": {
    "collapsed": true
   },
   "outputs": [],
   "source": [
    "train_data = pd.read_csv(\"/Users/Nelson/Desktop/Computer/Kaggle/Titanic/datasets/train.csv\")\n",
    "test_data = pd.read_csv(\"/Users/Nelson/Desktop/Computer/Kaggle/Titanic/datasets/test.csv\")"
   ]
  },
  {
   "cell_type": "code",
   "execution_count": 3,
   "metadata": {
    "collapsed": false,
    "scrolled": true
   },
   "outputs": [
    {
     "name": "stdout",
     "output_type": "stream",
     "text": [
      "<class 'pandas.core.frame.DataFrame'>\n",
      "RangeIndex: 891 entries, 0 to 890\n",
      "Data columns (total 12 columns):\n",
      "PassengerId    891 non-null int64\n",
      "Survived       891 non-null int64\n",
      "Pclass         891 non-null int64\n",
      "Name           891 non-null object\n",
      "Sex            891 non-null object\n",
      "Age            714 non-null float64\n",
      "SibSp          891 non-null int64\n",
      "Parch          891 non-null int64\n",
      "Ticket         891 non-null object\n",
      "Fare           891 non-null float64\n",
      "Cabin          204 non-null object\n",
      "Embarked       889 non-null object\n",
      "dtypes: float64(2), int64(5), object(5)\n",
      "memory usage: 83.6+ KB\n"
     ]
    }
   ],
   "source": [
    "train_data.info()"
   ]
  },
  {
   "cell_type": "markdown",
   "metadata": {},
   "source": [
    "可以看到训练数据中的Age和Cabin缺失较为严重，而Embarked缺失2个，可以用众数填充。其他特征无缺失。"
   ]
  },
  {
   "cell_type": "code",
   "execution_count": 4,
   "metadata": {
    "collapsed": false,
    "scrolled": true
   },
   "outputs": [
    {
     "data": {
      "text/html": [
       "<div>\n",
       "<table border=\"1\" class=\"dataframe\">\n",
       "  <thead>\n",
       "    <tr style=\"text-align: right;\">\n",
       "      <th></th>\n",
       "      <th>PassengerId</th>\n",
       "      <th>Survived</th>\n",
       "      <th>Pclass</th>\n",
       "      <th>Age</th>\n",
       "      <th>SibSp</th>\n",
       "      <th>Parch</th>\n",
       "      <th>Fare</th>\n",
       "    </tr>\n",
       "  </thead>\n",
       "  <tbody>\n",
       "    <tr>\n",
       "      <th>count</th>\n",
       "      <td>891.000000</td>\n",
       "      <td>891.000000</td>\n",
       "      <td>891.000000</td>\n",
       "      <td>714.000000</td>\n",
       "      <td>891.000000</td>\n",
       "      <td>891.000000</td>\n",
       "      <td>891.000000</td>\n",
       "    </tr>\n",
       "    <tr>\n",
       "      <th>mean</th>\n",
       "      <td>446.000000</td>\n",
       "      <td>0.383838</td>\n",
       "      <td>2.308642</td>\n",
       "      <td>29.699118</td>\n",
       "      <td>0.523008</td>\n",
       "      <td>0.381594</td>\n",
       "      <td>32.204208</td>\n",
       "    </tr>\n",
       "    <tr>\n",
       "      <th>std</th>\n",
       "      <td>257.353842</td>\n",
       "      <td>0.486592</td>\n",
       "      <td>0.836071</td>\n",
       "      <td>14.526497</td>\n",
       "      <td>1.102743</td>\n",
       "      <td>0.806057</td>\n",
       "      <td>49.693429</td>\n",
       "    </tr>\n",
       "    <tr>\n",
       "      <th>min</th>\n",
       "      <td>1.000000</td>\n",
       "      <td>0.000000</td>\n",
       "      <td>1.000000</td>\n",
       "      <td>0.420000</td>\n",
       "      <td>0.000000</td>\n",
       "      <td>0.000000</td>\n",
       "      <td>0.000000</td>\n",
       "    </tr>\n",
       "    <tr>\n",
       "      <th>25%</th>\n",
       "      <td>223.500000</td>\n",
       "      <td>0.000000</td>\n",
       "      <td>2.000000</td>\n",
       "      <td>20.125000</td>\n",
       "      <td>0.000000</td>\n",
       "      <td>0.000000</td>\n",
       "      <td>7.910400</td>\n",
       "    </tr>\n",
       "    <tr>\n",
       "      <th>50%</th>\n",
       "      <td>446.000000</td>\n",
       "      <td>0.000000</td>\n",
       "      <td>3.000000</td>\n",
       "      <td>28.000000</td>\n",
       "      <td>0.000000</td>\n",
       "      <td>0.000000</td>\n",
       "      <td>14.454200</td>\n",
       "    </tr>\n",
       "    <tr>\n",
       "      <th>75%</th>\n",
       "      <td>668.500000</td>\n",
       "      <td>1.000000</td>\n",
       "      <td>3.000000</td>\n",
       "      <td>38.000000</td>\n",
       "      <td>1.000000</td>\n",
       "      <td>0.000000</td>\n",
       "      <td>31.000000</td>\n",
       "    </tr>\n",
       "    <tr>\n",
       "      <th>max</th>\n",
       "      <td>891.000000</td>\n",
       "      <td>1.000000</td>\n",
       "      <td>3.000000</td>\n",
       "      <td>80.000000</td>\n",
       "      <td>8.000000</td>\n",
       "      <td>6.000000</td>\n",
       "      <td>512.329200</td>\n",
       "    </tr>\n",
       "  </tbody>\n",
       "</table>\n",
       "</div>"
      ],
      "text/plain": [
       "       PassengerId    Survived      Pclass         Age       SibSp  \\\n",
       "count   891.000000  891.000000  891.000000  714.000000  891.000000   \n",
       "mean    446.000000    0.383838    2.308642   29.699118    0.523008   \n",
       "std     257.353842    0.486592    0.836071   14.526497    1.102743   \n",
       "min       1.000000    0.000000    1.000000    0.420000    0.000000   \n",
       "25%     223.500000    0.000000    2.000000   20.125000    0.000000   \n",
       "50%     446.000000    0.000000    3.000000   28.000000    0.000000   \n",
       "75%     668.500000    1.000000    3.000000   38.000000    1.000000   \n",
       "max     891.000000    1.000000    3.000000   80.000000    8.000000   \n",
       "\n",
       "            Parch        Fare  \n",
       "count  891.000000  891.000000  \n",
       "mean     0.381594   32.204208  \n",
       "std      0.806057   49.693429  \n",
       "min      0.000000    0.000000  \n",
       "25%      0.000000    7.910400  \n",
       "50%      0.000000   14.454200  \n",
       "75%      0.000000   31.000000  \n",
       "max      6.000000  512.329200  "
      ]
     },
     "execution_count": 4,
     "metadata": {},
     "output_type": "execute_result"
    }
   ],
   "source": [
    "train_data.describe()"
   ]
  },
  {
   "cell_type": "markdown",
   "metadata": {},
   "source": [
    "从上面的数据可以看到以下结果：\n",
    "\n",
    "- 整个训练数据集中只有大概38.4%人获救\n",
    "- 乘客的平均年龄大约为29.7岁\n",
    "- 舱位中的2、3等舱人比1等舱的人多，说明有钱人还是少数\n",
    "- 从SibSp和Parch可以大概看到，平均一个人有0.9（接近1）个家属在船上，但是可以看到SibSp和Parch的方差还是很大的\n",
    "- 平均的船票价格是32刀，最贵512刀"
   ]
  },
  {
   "cell_type": "markdown",
   "metadata": {},
   "source": [
    "# 2 Analysis Data\n",
    "对训练数据中的每一个特征进行分析，从而实现对每个特征的合理处理。\n",
    "\n",
    "- PassengerId 没有太大用，可以drop掉\n",
    "- Survived 样本标记\n",
    "- Pclass 乘客的仓位信息，即类似头等舱、普通舱的信息，可以反映乘客不同的身份。由于是定序变量，需要进行one-hot编码\n",
    "- Name 可以发现人名中有一些身份信息，例如Miss，Mr，Master等信息，可以作为一个特征\n",
    "- Sex 性别信息，需要进行one-hot编码\n",
    "- Age 连续数据，需要进行年龄段划分（离散化），减少误差\n",
    "- SibSp 乘客在船上的兄弟姐妹。一般来说，有兄弟姐妹的乘客是否能逃生一般会受到兄弟姐妹的影响，兄弟姐妹一般都会在一起\n",
    "- parch 同上\n",
    "- Ticket 船票一般都是连号的，所以说船票信息能反映乘客相对位置，位置对于乘客是否能逃生也有很大的影响\n",
    "- Fare 客运票价，需要进行离散化\n",
    "- Cabin 船舱编号，可以看到缺失值太多，直接丢弃\n",
    "- Embarked 上船港口，不同地区上船的乘客在船上的位置可能不同，会对逃生带来影响"
   ]
  },
  {
   "cell_type": "markdown",
   "metadata": {},
   "source": [
    "## 2.1 观察分布\n"
   ]
  },
  {
   "cell_type": "code",
   "execution_count": 126,
   "metadata": {
    "collapsed": false,
    "scrolled": true
   },
   "outputs": [
    {
     "data": {
      "text/plain": [
       "<matplotlib.text.Text at 0x124b02b50>"
      ]
     },
     "execution_count": 126,
     "metadata": {},
     "output_type": "execute_result"
    },
    {
     "data": {
      "image/png": "[encoded data removed]",
      "text/plain": [
       "<matplotlib.figure.Figure at 0x1245f2fd0>"
      ]
     },
     "metadata": {
      "image/png": {
       "height": 274,
       "width": 390
      }
     },
     "output_type": "display_data"
    }
   ],
   "source": [
    "%matplotlib inline\n",
    "%config InlineBackend.figure_format = 'retina'\n",
    "import matplotlib.pyplot as plt\n",
    "\n",
    "survived_0 = train_data[train_data['Survived']==0]\n",
    "survived_1 = train_data[train_data['Survived']==1]\n",
    "\n",
    "# 绘制舱位的分布图\n",
    "df_Pclass = pd.DataFrame({'Survived': survived_1['Pclass'].value_counts(), 'Dead': survived_0['Pclass'].value_counts()})\n",
    "df_Pclass.plot(kind='bar', stacked=True)\n",
    "plt.title(\"Pclass x Survived\")\n",
    "plt.xlabel(\"Pclass\")\n",
    "plt.ylabel(\"The number of people\")"
   ]
  },
  {
   "cell_type": "markdown",
   "metadata": {},
   "source": [
    "从上面的分布可以得到两个结论：\n",
    "\n",
    "- 一等舱的乘客被救出的几率最大\n",
    "- 三等舱乘客被救出的几率最小\n",
    "- 因此舱位是影响逃生的很重要的因素"
   ]
  },
  {
   "cell_type": "code",
   "execution_count": 14,
   "metadata": {
    "collapsed": false
   },
   "outputs": [
    {
     "data": {
      "text/plain": [
       "<matplotlib.text.Text at 0x1201a7d50>"
      ]
     },
     "execution_count": 14,
     "metadata": {},
     "output_type": "execute_result"
    },
    {
     "data": {
      "image/png": "[encoded data removed]",
      "text/plain": [
       "<matplotlib.figure.Figure at 0x11e9ea450>"
      ]
     },
     "metadata": {},
     "output_type": "display_data"
    }
   ],
   "source": [
    "# 性别的获救情况\n",
    "df_Sex = pd.DataFrame({'Survived': survived_1['Sex'].value_counts(), 'Dead': survived_0['Sex'].value_counts()})\n",
    "df_Sex.plot(kind='bar', stacked=True)\n",
    "plt.title(\"Sex x Survived\")\n",
    "plt.xlabel(\"Sex\")\n",
    "plt.ylabel(\"The number of people\")"
   ]
  },
  {
   "cell_type": "markdown",
   "metadata": {},
   "source": [
    "从上面的分布可以得到结论：男性的获救率很低，女性的获救率很高。其实另一个隐藏的内容是，Titanic当时要求小孩女人先撤，所以小孩其实获救率也很高。所以性别是一项重要因素。"
   ]
  },
  {
   "cell_type": "code",
   "execution_count": 18,
   "metadata": {
    "collapsed": false
   },
   "outputs": [
    {
     "data": {
      "text/plain": [
       "<matplotlib.text.Text at 0x1201bf590>"
      ]
     },
     "execution_count": 18,
     "metadata": {},
     "output_type": "execute_result"
    },
    {
     "data": {
      "image/png": "[encoded data removed]",
      "text/plain": [
       "<matplotlib.figure.Figure at 0x11ec29b50>"
      ]
     },
     "metadata": {},
     "output_type": "display_data"
    }
   ],
   "source": [
    "# embarked港口的获救情况\n",
    "# 港口数据有两个缺失值，我们对其进行填充\n",
    "train_data['Embarked'].fillna(train_data['Embarked'].mode()[0], inplace=True)\n",
    "df_Embarked = pd.DataFrame({'Survived': survived_1['Embarked'].value_counts(), 'Dead': survived_0['Embarked'].value_counts()})\n",
    "df_Embarked.plot(kind='bar', stacked=True)\n",
    "plt.title(\"Embarked x Survived\")\n",
    "plt.xlabel(\"Embarked\")\n",
    "plt.ylabel(\"The number of people\")"
   ]
  },
  {
   "cell_type": "markdown",
   "metadata": {},
   "source": [
    "可以看出，C舱的获救率最高，而S和Q舱的获救率相对较低，因此Embarked也是重要特征"
   ]
  },
  {
   "cell_type": "code",
   "execution_count": 52,
   "metadata": {
    "collapsed": false
   },
   "outputs": [
    {
     "data": {
      "text/plain": [
       "<matplotlib.text.Text at 0x120d7bd10>"
      ]
     },
     "execution_count": 52,
     "metadata": {},
     "output_type": "execute_result"
    },
    {
     "data": {
      "image/png": "[encoded data removed]",
      "text/plain": [
       "<matplotlib.figure.Figure at 0x120bac810>"
      ]
     },
     "metadata": {},
     "output_type": "display_data"
    }
   ],
   "source": [
    "# 观察年龄分布(排除缺失值)\n",
    "fig = plt.figure()\n",
    "fig.set(alpha=0.2)\n",
    "\n",
    "plt.subplot2grid((1,2), (0,0))\n",
    "plt.hist(survived_0[survived_0['Age'].notnull()]['Age'], bins='auto')\n",
    "plt.title(\"Dead\")\n",
    "plt.xlabel(\"Age\")\n",
    "plt.ylabel(\"The number of People\")\n",
    "\n",
    "plt.subplot2grid((1,2), (0,1))\n",
    "plt.hist(survived_1[survived_1['Age'].notnull()]['Age'], bins='auto')\n",
    "plt.title(\"Survived\")\n",
    "plt.xlabel(\"Age\")\n",
    "plt.ylabel(\"The number of People\")"
   ]
  },
  {
   "cell_type": "markdown",
   "metadata": {},
   "source": [
    "从上面的数据可以明显看出在逃生的人中，存在年龄特别小的人数相当的多，这也印证了小孩逃生率更高的说法。除了小孩以外，逃生的人中其他年龄段分布基本相似，所以年龄的划分可以划分为是否为小孩（10岁以下）。"
   ]
  },
  {
   "cell_type": "code",
   "execution_count": 61,
   "metadata": {
    "collapsed": false
   },
   "outputs": [
    {
     "name": "stderr",
     "output_type": "stream",
     "text": [
      "/Users/Nelson/anaconda/lib/python2.7/site-packages/ipykernel/__main__.py:3: SettingWithCopyWarning: \n",
      "A value is trying to be set on a copy of a slice from a DataFrame.\n",
      "Try using .loc[row_indexer,col_indexer] = value instead\n",
      "\n",
      "See the caveats in the documentation: http://pandas.pydata.org/pandas-docs/stable/indexing.html#indexing-view-versus-copy\n",
      "  app.launch_new_instance()\n",
      "/Users/Nelson/anaconda/lib/python2.7/site-packages/ipykernel/__main__.py:4: SettingWithCopyWarning: \n",
      "A value is trying to be set on a copy of a slice from a DataFrame.\n",
      "Try using .loc[row_indexer,col_indexer] = value instead\n",
      "\n",
      "See the caveats in the documentation: http://pandas.pydata.org/pandas-docs/stable/indexing.html#indexing-view-versus-copy\n"
     ]
    },
    {
     "data": {
      "text/plain": [
       "<matplotlib.text.Text at 0x1215e7650>"
      ]
     },
     "execution_count": 61,
     "metadata": {},
     "output_type": "execute_result"
    },
    {
     "data": {
      "image/png": "[encoded data removed]",
      "text/plain": [
       "<matplotlib.figure.Figure at 0x120c6c5d0>"
      ]
     },
     "metadata": {},
     "output_type": "display_data"
    }
   ],
   "source": [
    "# 接下来看一下SibSp和Parch数据，这两列数据代表了是否有亲属在，SibSp代表兄弟姐妹，而Parch代表是否有小孩或者父母。\n",
    "# 我们把这两列进行相加，只关系家属状况，而不区分是否为兄弟姐妹或者是否是孩子父母\n",
    "survived_0['Relatives'] = survived_0['SibSp'] + survived_0['Parch']\n",
    "survived_1['Relatives'] = survived_1['SibSp'] + survived_1['Parch']\n",
    "df_Relatives = pd.DataFrame({'Survived': survived_1['Relatives'].value_counts(), 'Dead': survived_0['Relatives'].value_counts()})\n",
    "df_Relatives.plot(kind='bar', stacked=True)\n",
    "plt.title(\"Relatives x Survived\")\n",
    "plt.xlabel(\"The number of relatives\")\n",
    "plt.ylabel(\"The number of people\")"
   ]
  },
  {
   "cell_type": "markdown",
   "metadata": {},
   "source": [
    "从图中可以看出家属小于等于3的人更容易获救（获救率较高），而家属人数超过3的乘客几乎都遇难了。因此在后面对Relatives这一列进行0-1划分，判断是否小于3"
   ]
  },
  {
   "cell_type": "code",
   "execution_count": 72,
   "metadata": {
    "collapsed": false
   },
   "outputs": [
    {
     "data": {
      "text/plain": [
       "<matplotlib.text.Text at 0x12325db50>"
      ]
     },
     "execution_count": 72,
     "metadata": {},
     "output_type": "execute_result"
    },
    {
     "data": {
      "image/png": "[encoded data removed]",
      "text/plain": [
       "<matplotlib.figure.Figure at 0x122f51a90>"
      ]
     },
     "metadata": {},
     "output_type": "display_data"
    }
   ],
   "source": [
    "# 观察Fare的分布\n",
    "fig = plt.figure()\n",
    "fig.set(alpha=0.2)\n",
    "\n",
    "plt.subplot2grid((1,2), (0,0))\n",
    "survived_0['Fare'].hist(bins='auto')\n",
    "plt.title(\"Dead\")\n",
    "plt.xlabel(\"Fare\")\n",
    "\n",
    "plt.subplot2grid((1,2), (0,1))\n",
    "survived_1['Fare'].hist(bins='auto')\n",
    "plt.title(\"Survived\")\n",
    "plt.xlabel(\"Fare\")"
   ]
  },
  {
   "cell_type": "markdown",
   "metadata": {},
   "source": [
    "Fare暂时看不出什么特别之处，当做一半的连续数据进行归一化处理"
   ]
  },
  {
   "cell_type": "markdown",
   "metadata": {},
   "source": [
    "Ticket暂时不进行处理"
   ]
  },
  {
   "cell_type": "code",
   "execution_count": 75,
   "metadata": {
    "collapsed": false
   },
   "outputs": [
    {
     "data": {
      "text/plain": [
       "True     687\n",
       "False    204\n",
       "Name: Cabin, dtype: int64"
      ]
     },
     "execution_count": 75,
     "metadata": {},
     "output_type": "execute_result"
    }
   ],
   "source": [
    "# 观察Cabin\n",
    "pd.value_counts(train_data['Cabin'].isnull())"
   ]
  },
  {
   "cell_type": "code",
   "execution_count": 82,
   "metadata": {
    "collapsed": false,
    "scrolled": true
   },
   "outputs": [
    {
     "name": "stderr",
     "output_type": "stream",
     "text": [
      "/Users/Nelson/anaconda/lib/python2.7/site-packages/ipykernel/__main__.py:6: SettingWithCopyWarning: \n",
      "A value is trying to be set on a copy of a slice from a DataFrame.\n",
      "Try using .loc[row_indexer,col_indexer] = value instead\n",
      "\n",
      "See the caveats in the documentation: http://pandas.pydata.org/pandas-docs/stable/indexing.html#indexing-view-versus-copy\n",
      "/Users/Nelson/anaconda/lib/python2.7/site-packages/ipykernel/__main__.py:7: SettingWithCopyWarning: \n",
      "A value is trying to be set on a copy of a slice from a DataFrame.\n",
      "Try using .loc[row_indexer,col_indexer] = value instead\n",
      "\n",
      "See the caveats in the documentation: http://pandas.pydata.org/pandas-docs/stable/indexing.html#indexing-view-versus-copy\n"
     ]
    },
    {
     "data": {
      "text/plain": [
       "<matplotlib.text.Text at 0x123aac210>"
      ]
     },
     "execution_count": 82,
     "metadata": {},
     "output_type": "execute_result"
    },
    {
     "data": {
      "image/png": "[encoded data removed]",
      "text/plain": [
       "<matplotlib.figure.Figure at 0x123177510>"
      ]
     },
     "metadata": {},
     "output_type": "display_data"
    }
   ],
   "source": [
    "# 可以看到Cabin缺失相当严重，我们队Cabin进行一步处理\n",
    "# 填充空缺为‘Unknown’\n",
    "survived_0['Cabin'].fillna('Unknown', inplace=True)\n",
    "survived_1['Cabin'].fillna('Unknown', inplace=True)\n",
    "# 抽取Cabin的字母\n",
    "survived_0['Cabin_No'] = map(lambda x: int(x!='Unknown'), survived_0['Cabin'])\n",
    "survived_1['Cabin_No'] = map(lambda x: int(x!='Unknown'), survived_1['Cabin'])\n",
    "# 绘图\n",
    "df_Cabin = pd.DataFrame({'Survived': survived_1['Cabin_No'].value_counts(), 'Dead': survived_0['Cabin_No'].value_counts()})\n",
    "df_Cabin.plot(kind='bar', stacked=True)\n",
    "plt.title(\"Cabin x Survived\")\n",
    "plt.xlabel(\"Cabin\")\n",
    "plt.ylabel(\"The number of people\")"
   ]
  },
  {
   "cell_type": "markdown",
   "metadata": {},
   "source": [
    "开始我把空值填充为Unknown以后再按照首字母来进行分布绘制，但是发现效果并不好。因此按照有无Cabin来进行划分。可以看出有Cabin的乘客更多地被获救。因此Cabin一列按照有无Cabin来处理。"
   ]
  },
  {
   "cell_type": "code",
   "execution_count": 91,
   "metadata": {
    "collapsed": false
   },
   "outputs": [],
   "source": [
    "# 处理Ticket\n",
    "# 对ticket按照上述方式处理\n",
    "# 编辑正则\n",
    "import re\n",
    "pattern_num = re.compile(r\"^\\d+$\") # 纯数字\n",
    "pattern_A = re.compile(r\"^A.*\") # A开头\n",
    "pattern_C = re.compile(r\"^C.*\") # C开头\n",
    "pattern_F = re.compile(r\"^F.*\") # F开头\n",
    "pattern_LINE = re.compile(r\"^LINE\") # LINE\n",
    "pattern_P = re.compile(r\"^P.*\") # P开头\n",
    "pattern_S = re.compile(r\"^S.*\") # S开头\n",
    "pattern_W = re.compile(r\"^W.*\") # W开头\n",
    "def process_ticket(ticket):\n",
    "    length = len(ticket)\n",
    "    if re.match(pattern_num, ticket):\n",
    "        return 1\n",
    "    elif re.match(pattern_A, ticket):\n",
    "        return 2\n",
    "    elif re.match(pattern_C, ticket):\n",
    "        return 3\n",
    "    elif re.match(pattern_F, ticket):\n",
    "        return 4\n",
    "    elif re.match(pattern_LINE, ticket):\n",
    "        return 5\n",
    "    elif re.match(pattern_P, ticket):\n",
    "        return 6\n",
    "    elif re.match(pattern_S, ticket):\n",
    "        return 7\n",
    "    elif re.match(pattern_W, ticket):\n",
    "        return 8\n",
    "    else:\n",
    "        return 9"
   ]
  },
  {
   "cell_type": "code",
   "execution_count": 92,
   "metadata": {
    "collapsed": false
   },
   "outputs": [
    {
     "name": "stderr",
     "output_type": "stream",
     "text": [
      "/Users/Nelson/anaconda/lib/python2.7/site-packages/ipykernel/__main__.py:1: SettingWithCopyWarning: \n",
      "A value is trying to be set on a copy of a slice from a DataFrame.\n",
      "Try using .loc[row_indexer,col_indexer] = value instead\n",
      "\n",
      "See the caveats in the documentation: http://pandas.pydata.org/pandas-docs/stable/indexing.html#indexing-view-versus-copy\n",
      "  if __name__ == '__main__':\n",
      "/Users/Nelson/anaconda/lib/python2.7/site-packages/ipykernel/__main__.py:2: SettingWithCopyWarning: \n",
      "A value is trying to be set on a copy of a slice from a DataFrame.\n",
      "Try using .loc[row_indexer,col_indexer] = value instead\n",
      "\n",
      "See the caveats in the documentation: http://pandas.pydata.org/pandas-docs/stable/indexing.html#indexing-view-versus-copy\n",
      "  from ipykernel import kernelapp as app\n"
     ]
    },
    {
     "data": {
      "text/plain": [
       "<matplotlib.text.Text at 0x123ee66d0>"
      ]
     },
     "execution_count": 92,
     "metadata": {},
     "output_type": "execute_result"
    },
    {
     "data": {
      "image/png": "[encoded data removed]",
      "text/plain": [
       "<matplotlib.figure.Figure at 0x123e1a0d0>"
      ]
     },
     "metadata": {},
     "output_type": "display_data"
    }
   ],
   "source": [
    "survived_0['Ticket_new'] = map(process_ticket, survived_0['Ticket'])\n",
    "survived_1['Ticket_new'] = map(process_ticket, survived_1['Ticket'])\n",
    "\n",
    "df_Ticket = pd.DataFrame({'Survived': survived_1['Ticket_new'].value_counts(), 'Dead': survived_0['Ticket_new'].value_counts()})\n",
    "df_Ticket.plot(kind='bar', stacked=True)\n",
    "plt.title(\"Ticket x Survived\")\n",
    "plt.xlabel(\"Ticket\")\n",
    "plt.ylabel(\"The number of people\")"
   ]
  },
  {
   "cell_type": "markdown",
   "metadata": {},
   "source": [
    "对Ticket进行进一步处理并没有发现什么好的特征，因此放弃Ticket这一列，对其他列进行处理。"
   ]
  },
  {
   "cell_type": "code",
   "execution_count": 127,
   "metadata": {
    "collapsed": false
   },
   "outputs": [
    {
     "data": {
      "image/png": "[encoded data removed]",
      "text/plain": [
       "<matplotlib.figure.Figure at 0x124c166d0>"
      ]
     },
     "metadata": {
      "image/png": {
       "height": 263,
       "width": 413
      }
     },
     "output_type": "display_data"
    }
   ],
   "source": [
    "# 交叉属性的观察\n",
    "fig = plt.figure()\n",
    "fig.set(alpha=0.65) # 设置图像透明度，无所谓\n",
    "plt.title(\"Sex x Pclass\")\n",
    "\n",
    "ax1=fig.add_subplot(141)\n",
    "train_data.Survived[train_data.Sex == 'female'][train_data.Pclass != 3].value_counts().plot(kind='bar', label=\"female highclass\", color='#FA2479')\n",
    "ax1.set_xticklabels(['Survived', 'Dead'], rotation=0)\n",
    "ax1.legend(['female/high-class'], loc='best')\n",
    "\n",
    "ax2=fig.add_subplot(142, sharey=ax1)\n",
    "train_data.Survived[train_data.Sex == 'female'][train_data.Pclass == 3].value_counts().plot(kind='bar', label='female, low class', color='pink')\n",
    "ax2.set_xticklabels(['Dead', 'Survived'], rotation=0)\n",
    "plt.legend(['female/low-class'], loc='best')\n",
    "\n",
    "ax3=fig.add_subplot(143, sharey=ax1)\n",
    "train_data.Survived[train_data.Sex == 'male'][train_data.Pclass != 3].value_counts().plot(kind='bar', label='male, high class',color='lightblue')\n",
    "ax3.set_xticklabels(['Survived', 'Dead'], rotation=0)\n",
    "plt.legend(['male/high-class'], loc='best')\n",
    "\n",
    "ax4=fig.add_subplot(144, sharey=ax1)\n",
    "train_data.Survived[train_data.Sex == 'male'][train_data.Pclass == 3].value_counts().plot(kind='bar', label='male low class', color='steelblue')\n",
    "ax4.set_xticklabels(['Dead', 'Survived'], rotation=0)\n",
    "plt.legend(['male/low-class'], loc='best')\n",
    "\n",
    "plt.show()"
   ]
  },
  {
   "cell_type": "markdown",
   "metadata": {},
   "source": [
    "# 3 Feature Processing"
   ]
  },
  {
   "cell_type": "markdown",
   "metadata": {},
   "source": [
    "one-hot处理：\n",
    "\n",
    "- Pclass\n",
    "- Sex\n",
    "- Embarked\n",
    "\n",
    "离散化处理：\n",
    "\n",
    "- Age预测填充，<10岁为1，其余为0\n",
    "- Parch和SibSp进行加和生成Relatives，对Relatives以 <4进行区间划分。\n",
    "- Cabin 按照有无Cabin处理\n",
    "\n",
    "归一化处理：\n",
    "\n",
    "- Fare\n",
    "\n",
    "丢弃：\n",
    "\n",
    "- Ticket"
   ]
  },
  {
   "cell_type": "markdown",
   "metadata": {},
   "source": [
    "由于训练集和测试集需要相同的处理过程，因此在下面我们将把训练集和测试集的特征数据单独拿出来进行preprocessing，该部分的步骤如下：\n",
    "\n",
    "- 1.合并训练集与测试集的特征，将训练集的targets分离出来后续再合并\n",
    "- 2.对特征数据进行处理\n",
    "- 3.分离训练集和测试集\n",
    "- 4.模型训练与验证\n",
    "- 5.提交结果"
   ]
  },
  {
   "cell_type": "markdown",
   "metadata": {},
   "source": [
    "## 3.1 合并两部分特征\n",
    "- train_features: 训练样本的特征\n",
    "- train_targets: 训练样本的标记\n",
    "- test_features: 测试样本的特征"
   ]
  },
  {
   "cell_type": "code",
   "execution_count": 148,
   "metadata": {
    "collapsed": true
   },
   "outputs": [],
   "source": [
    "# 合并两部分特征\n",
    "train_features, train_targets = train_data.drop('Survived', axis=1), train_data['Survived']\n",
    "test_features = test_data\n",
    "features = pd.concat([train_features, test_features], ignore_index=True)"
   ]
  },
  {
   "cell_type": "code",
   "execution_count": 149,
   "metadata": {
    "collapsed": false
   },
   "outputs": [
    {
     "data": {
      "text/html": [
       "<div>\n",
       "<table border=\"1\" class=\"dataframe\">\n",
       "  <thead>\n",
       "    <tr style=\"text-align: right;\">\n",
       "      <th></th>\n",
       "      <th>PassengerId</th>\n",
       "      <th>Pclass</th>\n",
       "      <th>Name</th>\n",
       "      <th>Sex</th>\n",
       "      <th>Age</th>\n",
       "      <th>SibSp</th>\n",
       "      <th>Parch</th>\n",
       "      <th>Ticket</th>\n",
       "      <th>Fare</th>\n",
       "      <th>Cabin</th>\n",
       "      <th>Embarked</th>\n",
       "    </tr>\n",
       "  </thead>\n",
       "  <tbody>\n",
       "    <tr>\n",
       "      <th>0</th>\n",
       "      <td>1</td>\n",
       "      <td>3</td>\n",
       "      <td>Braund, Mr. Owen Harris</td>\n",
       "      <td>male</td>\n",
       "      <td>22.0</td>\n",
       "      <td>1</td>\n",
       "      <td>0</td>\n",
       "      <td>A/5 21171</td>\n",
       "      <td>7.2500</td>\n",
       "      <td>NaN</td>\n",
       "      <td>S</td>\n",
       "    </tr>\n",
       "    <tr>\n",
       "      <th>1</th>\n",
       "      <td>2</td>\n",
       "      <td>1</td>\n",
       "      <td>Cumings, Mrs. John Bradley (Florence Briggs Th...</td>\n",
       "      <td>female</td>\n",
       "      <td>38.0</td>\n",
       "      <td>1</td>\n",
       "      <td>0</td>\n",
       "      <td>PC 17599</td>\n",
       "      <td>71.2833</td>\n",
       "      <td>C85</td>\n",
       "      <td>C</td>\n",
       "    </tr>\n",
       "    <tr>\n",
       "      <th>2</th>\n",
       "      <td>3</td>\n",
       "      <td>3</td>\n",
       "      <td>Heikkinen, Miss. Laina</td>\n",
       "      <td>female</td>\n",
       "      <td>26.0</td>\n",
       "      <td>0</td>\n",
       "      <td>0</td>\n",
       "      <td>STON/O2. 3101282</td>\n",
       "      <td>7.9250</td>\n",
       "      <td>NaN</td>\n",
       "      <td>S</td>\n",
       "    </tr>\n",
       "    <tr>\n",
       "      <th>3</th>\n",
       "      <td>4</td>\n",
       "      <td>1</td>\n",
       "      <td>Futrelle, Mrs. Jacques Heath (Lily May Peel)</td>\n",
       "      <td>female</td>\n",
       "      <td>35.0</td>\n",
       "      <td>1</td>\n",
       "      <td>0</td>\n",
       "      <td>113803</td>\n",
       "      <td>53.1000</td>\n",
       "      <td>C123</td>\n",
       "      <td>S</td>\n",
       "    </tr>\n",
       "    <tr>\n",
       "      <th>4</th>\n",
       "      <td>5</td>\n",
       "      <td>3</td>\n",
       "      <td>Allen, Mr. William Henry</td>\n",
       "      <td>male</td>\n",
       "      <td>35.0</td>\n",
       "      <td>0</td>\n",
       "      <td>0</td>\n",
       "      <td>373450</td>\n",
       "      <td>8.0500</td>\n",
       "      <td>NaN</td>\n",
       "      <td>S</td>\n",
       "    </tr>\n",
       "  </tbody>\n",
       "</table>\n",
       "</div>"
      ],
      "text/plain": [
       "   PassengerId  Pclass                                               Name  \\\n",
       "0            1       3                            Braund, Mr. Owen Harris   \n",
       "1            2       1  Cumings, Mrs. John Bradley (Florence Briggs Th...   \n",
       "2            3       3                             Heikkinen, Miss. Laina   \n",
       "3            4       1       Futrelle, Mrs. Jacques Heath (Lily May Peel)   \n",
       "4            5       3                           Allen, Mr. William Henry   \n",
       "\n",
       "      Sex   Age  SibSp  Parch            Ticket     Fare Cabin Embarked  \n",
       "0    male  22.0      1      0         A/5 21171   7.2500   NaN        S  \n",
       "1  female  38.0      1      0          PC 17599  71.2833   C85        C  \n",
       "2  female  26.0      0      0  STON/O2. 3101282   7.9250   NaN        S  \n",
       "3  female  35.0      1      0            113803  53.1000  C123        S  \n",
       "4    male  35.0      0      0            373450   8.0500   NaN        S  "
      ]
     },
     "execution_count": 149,
     "metadata": {},
     "output_type": "execute_result"
    }
   ],
   "source": [
    "features.head()"
   ]
  },
  {
   "cell_type": "markdown",
   "metadata": {},
   "source": [
    "## 3.2 特征处理"
   ]
  },
  {
   "cell_type": "code",
   "execution_count": 150,
   "metadata": {
    "collapsed": true
   },
   "outputs": [],
   "source": [
    "# (1)首先对Pclass， Sex以及 Embarked进行one-hot编码\n",
    "onehot_fields = ['Pclass', 'Sex', 'Embarked']\n",
    "# Embarked用众数进行空值填充\n",
    "features['Embarked'].fillna(features['Embarked'].mode()[0], inplace=True)\n",
    "\n",
    "for each in onehot_fields:\n",
    "    onehot_result = pd.get_dummies(features[each], prefix=each)\n",
    "    features = pd.concat([features, onehot_result], axis=1)\n",
    "    features.drop(each, axis=1, inplace=True)"
   ]
  },
  {
   "cell_type": "code",
   "execution_count": 151,
   "metadata": {
    "collapsed": true
   },
   "outputs": [],
   "source": [
    "# (2)对Parch和SibSp进行处理\n",
    "features['Relatives'] = features['SibSp'] + features['Parch']\n",
    "# 按照Relatives<4分开\n",
    "features['Relatives_new'] = map(lambda x: int(x < 4), features['Relatives'])\n",
    "# 对Relatives_new进行one-hot编码\n",
    "onehot_result = pd.get_dummies(features['Relatives_new'], prefix='Relatives')\n",
    "features = pd.concat([features, onehot_result], axis=1)\n",
    "\n",
    "features.drop(['SibSp', 'Parch', 'Relatives', 'Relatives_new'], axis=1, inplace=True)"
   ]
  },
  {
   "cell_type": "code",
   "execution_count": 152,
   "metadata": {
    "collapsed": false
   },
   "outputs": [],
   "source": [
    "# (3)对Cabin进行有无Cabin进行处理\n",
    "features['Cabin_new'] = map(int, features['Cabin'].notnull())\n",
    "# one-hot编码\n",
    "onehot_result = pd.get_dummies(features['Cabin_new'], prefix='Cabin')\n",
    "features = pd.concat([features, onehot_result], axis=1)\n",
    "\n",
    "features.drop(['Cabin', 'Cabin_new'], axis=1, inplace=True)"
   ]
  },
  {
   "cell_type": "code",
   "execution_count": 153,
   "metadata": {
    "collapsed": true
   },
   "outputs": [],
   "source": [
    "# (4)对Fare进行归一化处理\n",
    "fare_mean = np.mean(features['Fare'])\n",
    "# 填充缺失值\n",
    "features['Fare'].fillna(fare_mean, inplace=True)\n",
    "fare_std = np.std(features['Fare'])\n",
    "features['Fare_scaled'] = (features['Fare'] - fare_mean) / fare_std\n",
    "\n",
    "features.drop('Fare', axis=1, inplace=True)"
   ]
  },
  {
   "cell_type": "code",
   "execution_count": 154,
   "metadata": {
    "collapsed": false
   },
   "outputs": [
    {
     "data": {
      "text/html": [
       "<div>\n",
       "<table border=\"1\" class=\"dataframe\">\n",
       "  <thead>\n",
       "    <tr style=\"text-align: right;\">\n",
       "      <th></th>\n",
       "      <th>PassengerId</th>\n",
       "      <th>Name</th>\n",
       "      <th>Age</th>\n",
       "      <th>Ticket</th>\n",
       "      <th>Pclass_1</th>\n",
       "      <th>Pclass_2</th>\n",
       "      <th>Pclass_3</th>\n",
       "      <th>Sex_female</th>\n",
       "      <th>Sex_male</th>\n",
       "      <th>Embarked_C</th>\n",
       "      <th>Embarked_Q</th>\n",
       "      <th>Embarked_S</th>\n",
       "      <th>Relatives_0</th>\n",
       "      <th>Relatives_1</th>\n",
       "      <th>Cabin_0</th>\n",
       "      <th>Cabin_1</th>\n",
       "      <th>Fare_scaled</th>\n",
       "    </tr>\n",
       "  </thead>\n",
       "  <tbody>\n",
       "    <tr>\n",
       "      <th>0</th>\n",
       "      <td>1</td>\n",
       "      <td>Braund, Mr. Owen Harris</td>\n",
       "      <td>22.0</td>\n",
       "      <td>A/5 21171</td>\n",
       "      <td>0</td>\n",
       "      <td>0</td>\n",
       "      <td>1</td>\n",
       "      <td>0</td>\n",
       "      <td>1</td>\n",
       "      <td>0</td>\n",
       "      <td>0</td>\n",
       "      <td>1</td>\n",
       "      <td>0</td>\n",
       "      <td>1</td>\n",
       "      <td>1</td>\n",
       "      <td>0</td>\n",
       "      <td>-0.503595</td>\n",
       "    </tr>\n",
       "    <tr>\n",
       "      <th>1</th>\n",
       "      <td>2</td>\n",
       "      <td>Cumings, Mrs. John Bradley (Florence Briggs Th...</td>\n",
       "      <td>38.0</td>\n",
       "      <td>PC 17599</td>\n",
       "      <td>1</td>\n",
       "      <td>0</td>\n",
       "      <td>0</td>\n",
       "      <td>1</td>\n",
       "      <td>0</td>\n",
       "      <td>1</td>\n",
       "      <td>0</td>\n",
       "      <td>0</td>\n",
       "      <td>0</td>\n",
       "      <td>1</td>\n",
       "      <td>0</td>\n",
       "      <td>1</td>\n",
       "      <td>0.734503</td>\n",
       "    </tr>\n",
       "    <tr>\n",
       "      <th>2</th>\n",
       "      <td>3</td>\n",
       "      <td>Heikkinen, Miss. Laina</td>\n",
       "      <td>26.0</td>\n",
       "      <td>STON/O2. 3101282</td>\n",
       "      <td>0</td>\n",
       "      <td>0</td>\n",
       "      <td>1</td>\n",
       "      <td>1</td>\n",
       "      <td>0</td>\n",
       "      <td>0</td>\n",
       "      <td>0</td>\n",
       "      <td>1</td>\n",
       "      <td>0</td>\n",
       "      <td>1</td>\n",
       "      <td>1</td>\n",
       "      <td>0</td>\n",
       "      <td>-0.490544</td>\n",
       "    </tr>\n",
       "    <tr>\n",
       "      <th>3</th>\n",
       "      <td>4</td>\n",
       "      <td>Futrelle, Mrs. Jacques Heath (Lily May Peel)</td>\n",
       "      <td>35.0</td>\n",
       "      <td>113803</td>\n",
       "      <td>1</td>\n",
       "      <td>0</td>\n",
       "      <td>0</td>\n",
       "      <td>1</td>\n",
       "      <td>0</td>\n",
       "      <td>0</td>\n",
       "      <td>0</td>\n",
       "      <td>1</td>\n",
       "      <td>0</td>\n",
       "      <td>1</td>\n",
       "      <td>0</td>\n",
       "      <td>1</td>\n",
       "      <td>0.382925</td>\n",
       "    </tr>\n",
       "    <tr>\n",
       "      <th>4</th>\n",
       "      <td>5</td>\n",
       "      <td>Allen, Mr. William Henry</td>\n",
       "      <td>35.0</td>\n",
       "      <td>373450</td>\n",
       "      <td>0</td>\n",
       "      <td>0</td>\n",
       "      <td>1</td>\n",
       "      <td>0</td>\n",
       "      <td>1</td>\n",
       "      <td>0</td>\n",
       "      <td>0</td>\n",
       "      <td>1</td>\n",
       "      <td>0</td>\n",
       "      <td>1</td>\n",
       "      <td>1</td>\n",
       "      <td>0</td>\n",
       "      <td>-0.488127</td>\n",
       "    </tr>\n",
       "  </tbody>\n",
       "</table>\n",
       "</div>"
      ],
      "text/plain": [
       "   PassengerId                                               Name   Age  \\\n",
       "0            1                            Braund, Mr. Owen Harris  22.0   \n",
       "1            2  Cumings, Mrs. John Bradley (Florence Briggs Th...  38.0   \n",
       "2            3                             Heikkinen, Miss. Laina  26.0   \n",
       "3            4       Futrelle, Mrs. Jacques Heath (Lily May Peel)  35.0   \n",
       "4            5                           Allen, Mr. William Henry  35.0   \n",
       "\n",
       "             Ticket  Pclass_1  Pclass_2  Pclass_3  Sex_female  Sex_male  \\\n",
       "0         A/5 21171         0         0         1           0         1   \n",
       "1          PC 17599         1         0         0           1         0   \n",
       "2  STON/O2. 3101282         0         0         1           1         0   \n",
       "3            113803         1         0         0           1         0   \n",
       "4            373450         0         0         1           0         1   \n",
       "\n",
       "   Embarked_C  Embarked_Q  Embarked_S  Relatives_0  Relatives_1  Cabin_0  \\\n",
       "0           0           0           1            0            1        1   \n",
       "1           1           0           0            0            1        0   \n",
       "2           0           0           1            0            1        1   \n",
       "3           0           0           1            0            1        0   \n",
       "4           0           0           1            0            1        1   \n",
       "\n",
       "   Cabin_1  Fare_scaled  \n",
       "0        0    -0.503595  \n",
       "1        1     0.734503  \n",
       "2        0    -0.490544  \n",
       "3        1     0.382925  \n",
       "4        0    -0.488127  "
      ]
     },
     "execution_count": 154,
     "metadata": {},
     "output_type": "execute_result"
    }
   ],
   "source": [
    "features.head()"
   ]
  },
  {
   "cell_type": "code",
   "execution_count": 155,
   "metadata": {
    "collapsed": true
   },
   "outputs": [],
   "source": [
    "# (5)名字中间会代表该乘客的称号，我们对其进行统计\n",
    "# 一层数据映射\n",
    "def get_middle_name(name):\n",
    "    try:\n",
    "        title = name.split(\",\")[1].split(\".\")[0].strip().lower()\n",
    "    except:\n",
    "        title = None\n",
    "    return title"
   ]
  },
  {
   "cell_type": "code",
   "execution_count": 156,
   "metadata": {
    "collapsed": false
   },
   "outputs": [],
   "source": [
    "features['Title'] = map(get_middle_name, features['Name'])"
   ]
  },
  {
   "cell_type": "code",
   "execution_count": 157,
   "metadata": {
    "collapsed": true
   },
   "outputs": [],
   "source": [
    "# 将部分title进行合并\n",
    "def combine_titles(title):\n",
    "    if title == \"ms\" or title == \"mlle\":\n",
    "        return \"miss\"\n",
    "    if title == \"capt\" or title == \"col\" or title == \"don\" or title == \"major\":\n",
    "        return \"sir\"\n",
    "    if title == \"jonkheer\":\n",
    "        return \"master\"\n",
    "    if title == \"mme\":\n",
    "        return \"mrs\"\n",
    "    if title == \"dona\" or title == \"lady\" or title == \"the countess\":\n",
    "        return \"lady\"\n",
    "    else:\n",
    "        return title"
   ]
  },
  {
   "cell_type": "code",
   "execution_count": 158,
   "metadata": {
    "collapsed": false
   },
   "outputs": [],
   "source": [
    "features['Title'] = map(combine_titles, features['Title'])"
   ]
  },
  {
   "cell_type": "code",
   "execution_count": 159,
   "metadata": {
    "collapsed": false
   },
   "outputs": [],
   "source": [
    "# 对称号进行one-hot编码\n",
    "features = pd.concat([features, pd.get_dummies(features['Title'], prefix='Title')], axis=1)\n",
    "features.drop(['Name', 'Title'], axis=1, inplace=True)"
   ]
  },
  {
   "cell_type": "code",
   "execution_count": 168,
   "metadata": {
    "collapsed": false
   },
   "outputs": [
    {
     "data": {
      "text/html": [
       "<div>\n",
       "<table border=\"1\" class=\"dataframe\">\n",
       "  <thead>\n",
       "    <tr style=\"text-align: right;\">\n",
       "      <th></th>\n",
       "      <th>PassengerId</th>\n",
       "      <th>Age</th>\n",
       "      <th>Pclass_1</th>\n",
       "      <th>Pclass_2</th>\n",
       "      <th>Pclass_3</th>\n",
       "      <th>Sex_female</th>\n",
       "      <th>Sex_male</th>\n",
       "      <th>Embarked_C</th>\n",
       "      <th>Embarked_Q</th>\n",
       "      <th>Embarked_S</th>\n",
       "      <th>...</th>\n",
       "      <th>Fare_scaled</th>\n",
       "      <th>Title</th>\n",
       "      <th>Title_dr</th>\n",
       "      <th>Title_lady</th>\n",
       "      <th>Title_master</th>\n",
       "      <th>Title_miss</th>\n",
       "      <th>Title_mr</th>\n",
       "      <th>Title_mrs</th>\n",
       "      <th>Title_rev</th>\n",
       "      <th>Title_sir</th>\n",
       "    </tr>\n",
       "  </thead>\n",
       "  <tbody>\n",
       "    <tr>\n",
       "      <th>0</th>\n",
       "      <td>1</td>\n",
       "      <td>22.0</td>\n",
       "      <td>0</td>\n",
       "      <td>0</td>\n",
       "      <td>1</td>\n",
       "      <td>0</td>\n",
       "      <td>1</td>\n",
       "      <td>0</td>\n",
       "      <td>0</td>\n",
       "      <td>1</td>\n",
       "      <td>...</td>\n",
       "      <td>-0.503595</td>\n",
       "      <td>mr</td>\n",
       "      <td>0</td>\n",
       "      <td>0</td>\n",
       "      <td>0</td>\n",
       "      <td>0</td>\n",
       "      <td>1</td>\n",
       "      <td>0</td>\n",
       "      <td>0</td>\n",
       "      <td>0</td>\n",
       "    </tr>\n",
       "    <tr>\n",
       "      <th>1</th>\n",
       "      <td>2</td>\n",
       "      <td>38.0</td>\n",
       "      <td>1</td>\n",
       "      <td>0</td>\n",
       "      <td>0</td>\n",
       "      <td>1</td>\n",
       "      <td>0</td>\n",
       "      <td>1</td>\n",
       "      <td>0</td>\n",
       "      <td>0</td>\n",
       "      <td>...</td>\n",
       "      <td>0.734503</td>\n",
       "      <td>mrs</td>\n",
       "      <td>0</td>\n",
       "      <td>0</td>\n",
       "      <td>0</td>\n",
       "      <td>0</td>\n",
       "      <td>0</td>\n",
       "      <td>1</td>\n",
       "      <td>0</td>\n",
       "      <td>0</td>\n",
       "    </tr>\n",
       "    <tr>\n",
       "      <th>2</th>\n",
       "      <td>3</td>\n",
       "      <td>26.0</td>\n",
       "      <td>0</td>\n",
       "      <td>0</td>\n",
       "      <td>1</td>\n",
       "      <td>1</td>\n",
       "      <td>0</td>\n",
       "      <td>0</td>\n",
       "      <td>0</td>\n",
       "      <td>1</td>\n",
       "      <td>...</td>\n",
       "      <td>-0.490544</td>\n",
       "      <td>miss</td>\n",
       "      <td>0</td>\n",
       "      <td>0</td>\n",
       "      <td>0</td>\n",
       "      <td>1</td>\n",
       "      <td>0</td>\n",
       "      <td>0</td>\n",
       "      <td>0</td>\n",
       "      <td>0</td>\n",
       "    </tr>\n",
       "    <tr>\n",
       "      <th>3</th>\n",
       "      <td>4</td>\n",
       "      <td>35.0</td>\n",
       "      <td>1</td>\n",
       "      <td>0</td>\n",
       "      <td>0</td>\n",
       "      <td>1</td>\n",
       "      <td>0</td>\n",
       "      <td>0</td>\n",
       "      <td>0</td>\n",
       "      <td>1</td>\n",
       "      <td>...</td>\n",
       "      <td>0.382925</td>\n",
       "      <td>mrs</td>\n",
       "      <td>0</td>\n",
       "      <td>0</td>\n",
       "      <td>0</td>\n",
       "      <td>0</td>\n",
       "      <td>0</td>\n",
       "      <td>1</td>\n",
       "      <td>0</td>\n",
       "      <td>0</td>\n",
       "    </tr>\n",
       "    <tr>\n",
       "      <th>4</th>\n",
       "      <td>5</td>\n",
       "      <td>35.0</td>\n",
       "      <td>0</td>\n",
       "      <td>0</td>\n",
       "      <td>1</td>\n",
       "      <td>0</td>\n",
       "      <td>1</td>\n",
       "      <td>0</td>\n",
       "      <td>0</td>\n",
       "      <td>1</td>\n",
       "      <td>...</td>\n",
       "      <td>-0.488127</td>\n",
       "      <td>mr</td>\n",
       "      <td>0</td>\n",
       "      <td>0</td>\n",
       "      <td>0</td>\n",
       "      <td>0</td>\n",
       "      <td>1</td>\n",
       "      <td>0</td>\n",
       "      <td>0</td>\n",
       "      <td>0</td>\n",
       "    </tr>\n",
       "  </tbody>\n",
       "</table>\n",
       "<p>5 rows × 24 columns</p>\n",
       "</div>"
      ],
      "text/plain": [
       "   PassengerId   Age  Pclass_1  Pclass_2  Pclass_3  Sex_female  Sex_male  \\\n",
       "0            1  22.0         0         0         1           0         1   \n",
       "1            2  38.0         1         0         0           1         0   \n",
       "2            3  26.0         0         0         1           1         0   \n",
       "3            4  35.0         1         0         0           1         0   \n",
       "4            5  35.0         0         0         1           0         1   \n",
       "\n",
       "   Embarked_C  Embarked_Q  Embarked_S    ...      Fare_scaled  Title  \\\n",
       "0           0           0           1    ...        -0.503595     mr   \n",
       "1           1           0           0    ...         0.734503    mrs   \n",
       "2           0           0           1    ...        -0.490544   miss   \n",
       "3           0           0           1    ...         0.382925    mrs   \n",
       "4           0           0           1    ...        -0.488127     mr   \n",
       "\n",
       "   Title_dr  Title_lady  Title_master Title_miss  Title_mr  Title_mrs  \\\n",
       "0         0           0             0          0         1          0   \n",
       "1         0           0             0          0         0          1   \n",
       "2         0           0             0          1         0          0   \n",
       "3         0           0             0          0         0          1   \n",
       "4         0           0             0          0         1          0   \n",
       "\n",
       "   Title_rev  Title_sir  \n",
       "0          0          0  \n",
       "1          0          0  \n",
       "2          0          0  \n",
       "3          0          0  \n",
       "4          0          0  \n",
       "\n",
       "[5 rows x 24 columns]"
      ]
     },
     "execution_count": 168,
     "metadata": {},
     "output_type": "execute_result"
    }
   ],
   "source": [
    "features.head()"
   ]
  },
  {
   "cell_type": "code",
   "execution_count": 169,
   "metadata": {
    "collapsed": true
   },
   "outputs": [],
   "source": [
    "# # 对ticket按照上述方式处理\n",
    "# # 编辑正则\n",
    "# import re\n",
    "# pattern_num = re.compile(r\"^\\d+$\") # 纯数字\n",
    "# pattern_A = re.compile(r\"^A.*\") # A开头\n",
    "# pattern_C = re.compile(r\"^C.*\") # C开头\n",
    "# pattern_F = re.compile(r\"^F.*\") # F开头\n",
    "# pattern_LINE = re.compile(r\"^LINE\") # LINE\n",
    "# pattern_P = re.compile(r\"^P.*\") # P开头\n",
    "# pattern_S = re.compile(r\"^S.*\") # S开头\n",
    "# pattern_W = re.compile(r\"^W.*\") # W开头\n",
    "# def process_ticket(ticket):\n",
    "#     length = len(ticket)\n",
    "#     if re.match(pattern_num, ticket) and length == 7:\n",
    "#         return 1\n",
    "#     elif re.match(pattern_num, ticket) and length == 6:\n",
    "#         return 2\n",
    "#     elif re.match(pattern_num, ticket) and length == 5:\n",
    "#         return 3\n",
    "#     elif re.match(pattern_num, ticket) and length == 4:\n",
    "#         return 4\n",
    "#     elif re.match(pattern_A, ticket):\n",
    "#         return 5\n",
    "#     elif re.match(pattern_C, ticket):\n",
    "#         return 6\n",
    "#     elif re.match(pattern_F, ticket):\n",
    "#         return 7\n",
    "#     elif re.match(pattern_LINE, ticket):\n",
    "#         return 8\n",
    "#     elif re.match(pattern_P, ticket):\n",
    "#         return 9\n",
    "#     elif re.match(pattern_S, ticket):\n",
    "#         return 10\n",
    "#     elif re.match(pattern_W, ticket):\n",
    "#         return 11\n",
    "#     else:\n",
    "#         return 12"
   ]
  },
  {
   "cell_type": "code",
   "execution_count": 170,
   "metadata": {
    "collapsed": false
   },
   "outputs": [],
   "source": [
    "# # features['Ticket_new'] = map(process_ticket, features['Ticket'])\n",
    "\n",
    "# # 哑元化\n",
    "# features = pd.concat([features, pd.get_dummies(features['Ticket_new'], prefix='Ticket')], axis=1)\n",
    "# features.drop('Ticket', axis=1, inplace=True)"
   ]
  },
  {
   "cell_type": "code",
   "execution_count": 171,
   "metadata": {
    "collapsed": false
   },
   "outputs": [
    {
     "ename": "ValueError",
     "evalue": "labels ['Ticket'] not contained in axis",
     "output_type": "error",
     "traceback": [
      "\u001b[0;31m---------------------------------------------------------------------------\u001b[0m",
      "\u001b[0;31mValueError\u001b[0m                                Traceback (most recent call last)",
      "\u001b[0;32m<ipython-input-171-451fe5da2b90>\u001b[0m in \u001b[0;36m<module>\u001b[0;34m()\u001b[0m\n\u001b[1;32m      1\u001b[0m \u001b[0;31m# (6)将Ticket扔掉\u001b[0m\u001b[0;34m\u001b[0m\u001b[0;34m\u001b[0m\u001b[0m\n\u001b[0;32m----> 2\u001b[0;31m \u001b[0mfeatures\u001b[0m\u001b[0;34m.\u001b[0m\u001b[0mdrop\u001b[0m\u001b[0;34m(\u001b[0m\u001b[0;34m'Ticket'\u001b[0m\u001b[0;34m,\u001b[0m \u001b[0maxis\u001b[0m\u001b[0;34m=\u001b[0m\u001b[0;36m1\u001b[0m\u001b[0;34m,\u001b[0m \u001b[0minplace\u001b[0m\u001b[0;34m=\u001b[0m\u001b[0mTrue\u001b[0m\u001b[0;34m)\u001b[0m\u001b[0;34m\u001b[0m\u001b[0m\n\u001b[0m",
      "\u001b[0;32m/Users/Nelson/anaconda/lib/python2.7/site-packages/pandas/core/generic.pyc\u001b[0m in \u001b[0;36mdrop\u001b[0;34m(self, labels, axis, level, inplace, errors)\u001b[0m\n\u001b[1;32m   1905\u001b[0m                 \u001b[0mnew_axis\u001b[0m \u001b[0;34m=\u001b[0m \u001b[0maxis\u001b[0m\u001b[0;34m.\u001b[0m\u001b[0mdrop\u001b[0m\u001b[0;34m(\u001b[0m\u001b[0mlabels\u001b[0m\u001b[0;34m,\u001b[0m \u001b[0mlevel\u001b[0m\u001b[0;34m=\u001b[0m\u001b[0mlevel\u001b[0m\u001b[0;34m,\u001b[0m \u001b[0merrors\u001b[0m\u001b[0;34m=\u001b[0m\u001b[0merrors\u001b[0m\u001b[0;34m)\u001b[0m\u001b[0;34m\u001b[0m\u001b[0m\n\u001b[1;32m   1906\u001b[0m             \u001b[0;32melse\u001b[0m\u001b[0;34m:\u001b[0m\u001b[0;34m\u001b[0m\u001b[0m\n\u001b[0;32m-> 1907\u001b[0;31m                 \u001b[0mnew_axis\u001b[0m \u001b[0;34m=\u001b[0m \u001b[0maxis\u001b[0m\u001b[0;34m.\u001b[0m\u001b[0mdrop\u001b[0m\u001b[0;34m(\u001b[0m\u001b[0mlabels\u001b[0m\u001b[0;34m,\u001b[0m \u001b[0merrors\u001b[0m\u001b[0;34m=\u001b[0m\u001b[0merrors\u001b[0m\u001b[0;34m)\u001b[0m\u001b[0;34m\u001b[0m\u001b[0m\n\u001b[0m\u001b[1;32m   1908\u001b[0m             \u001b[0mdropped\u001b[0m \u001b[0;34m=\u001b[0m \u001b[0mself\u001b[0m\u001b[0;34m.\u001b[0m\u001b[0mreindex\u001b[0m\u001b[0;34m(\u001b[0m\u001b[0;34m**\u001b[0m\u001b[0;34m{\u001b[0m\u001b[0maxis_name\u001b[0m\u001b[0;34m:\u001b[0m \u001b[0mnew_axis\u001b[0m\u001b[0;34m}\u001b[0m\u001b[0;34m)\u001b[0m\u001b[0;34m\u001b[0m\u001b[0m\n\u001b[1;32m   1909\u001b[0m             \u001b[0;32mtry\u001b[0m\u001b[0;34m:\u001b[0m\u001b[0;34m\u001b[0m\u001b[0m\n",
      "\u001b[0;32m/Users/Nelson/anaconda/lib/python2.7/site-packages/pandas/indexes/base.pyc\u001b[0m in \u001b[0;36mdrop\u001b[0;34m(self, labels, errors)\u001b[0m\n\u001b[1;32m   3260\u001b[0m             \u001b[0;32mif\u001b[0m \u001b[0merrors\u001b[0m \u001b[0;34m!=\u001b[0m \u001b[0;34m'ignore'\u001b[0m\u001b[0;34m:\u001b[0m\u001b[0;34m\u001b[0m\u001b[0m\n\u001b[1;32m   3261\u001b[0m                 raise ValueError('labels %s not contained in axis' %\n\u001b[0;32m-> 3262\u001b[0;31m                                  labels[mask])\n\u001b[0m\u001b[1;32m   3263\u001b[0m             \u001b[0mindexer\u001b[0m \u001b[0;34m=\u001b[0m \u001b[0mindexer\u001b[0m\u001b[0;34m[\u001b[0m\u001b[0;34m~\u001b[0m\u001b[0mmask\u001b[0m\u001b[0;34m]\u001b[0m\u001b[0;34m\u001b[0m\u001b[0m\n\u001b[1;32m   3264\u001b[0m         \u001b[0;32mreturn\u001b[0m \u001b[0mself\u001b[0m\u001b[0;34m.\u001b[0m\u001b[0mdelete\u001b[0m\u001b[0;34m(\u001b[0m\u001b[0mindexer\u001b[0m\u001b[0;34m)\u001b[0m\u001b[0;34m\u001b[0m\u001b[0m\n",
      "\u001b[0;31mValueError\u001b[0m: labels ['Ticket'] not contained in axis"
     ]
    }
   ],
   "source": [
    "# (6)将Ticket扔掉\n",
    "features.drop('Ticket', axis=1, inplace=True)"
   ]
  },
  {
   "cell_type": "code",
   "execution_count": 172,
   "metadata": {
    "collapsed": false
   },
   "outputs": [
    {
     "data": {
      "text/html": [
       "<div>\n",
       "<table border=\"1\" class=\"dataframe\">\n",
       "  <thead>\n",
       "    <tr style=\"text-align: right;\">\n",
       "      <th></th>\n",
       "      <th>PassengerId</th>\n",
       "      <th>Age</th>\n",
       "      <th>Pclass_1</th>\n",
       "      <th>Pclass_2</th>\n",
       "      <th>Pclass_3</th>\n",
       "      <th>Sex_female</th>\n",
       "      <th>Sex_male</th>\n",
       "      <th>Embarked_C</th>\n",
       "      <th>Embarked_Q</th>\n",
       "      <th>Embarked_S</th>\n",
       "      <th>...</th>\n",
       "      <th>Fare_scaled</th>\n",
       "      <th>Title</th>\n",
       "      <th>Title_dr</th>\n",
       "      <th>Title_lady</th>\n",
       "      <th>Title_master</th>\n",
       "      <th>Title_miss</th>\n",
       "      <th>Title_mr</th>\n",
       "      <th>Title_mrs</th>\n",
       "      <th>Title_rev</th>\n",
       "      <th>Title_sir</th>\n",
       "    </tr>\n",
       "  </thead>\n",
       "  <tbody>\n",
       "    <tr>\n",
       "      <th>0</th>\n",
       "      <td>1</td>\n",
       "      <td>22.0</td>\n",
       "      <td>0</td>\n",
       "      <td>0</td>\n",
       "      <td>1</td>\n",
       "      <td>0</td>\n",
       "      <td>1</td>\n",
       "      <td>0</td>\n",
       "      <td>0</td>\n",
       "      <td>1</td>\n",
       "      <td>...</td>\n",
       "      <td>-0.503595</td>\n",
       "      <td>mr</td>\n",
       "      <td>0</td>\n",
       "      <td>0</td>\n",
       "      <td>0</td>\n",
       "      <td>0</td>\n",
       "      <td>1</td>\n",
       "      <td>0</td>\n",
       "      <td>0</td>\n",
       "      <td>0</td>\n",
       "    </tr>\n",
       "    <tr>\n",
       "      <th>1</th>\n",
       "      <td>2</td>\n",
       "      <td>38.0</td>\n",
       "      <td>1</td>\n",
       "      <td>0</td>\n",
       "      <td>0</td>\n",
       "      <td>1</td>\n",
       "      <td>0</td>\n",
       "      <td>1</td>\n",
       "      <td>0</td>\n",
       "      <td>0</td>\n",
       "      <td>...</td>\n",
       "      <td>0.734503</td>\n",
       "      <td>mrs</td>\n",
       "      <td>0</td>\n",
       "      <td>0</td>\n",
       "      <td>0</td>\n",
       "      <td>0</td>\n",
       "      <td>0</td>\n",
       "      <td>1</td>\n",
       "      <td>0</td>\n",
       "      <td>0</td>\n",
       "    </tr>\n",
       "    <tr>\n",
       "      <th>2</th>\n",
       "      <td>3</td>\n",
       "      <td>26.0</td>\n",
       "      <td>0</td>\n",
       "      <td>0</td>\n",
       "      <td>1</td>\n",
       "      <td>1</td>\n",
       "      <td>0</td>\n",
       "      <td>0</td>\n",
       "      <td>0</td>\n",
       "      <td>1</td>\n",
       "      <td>...</td>\n",
       "      <td>-0.490544</td>\n",
       "      <td>miss</td>\n",
       "      <td>0</td>\n",
       "      <td>0</td>\n",
       "      <td>0</td>\n",
       "      <td>1</td>\n",
       "      <td>0</td>\n",
       "      <td>0</td>\n",
       "      <td>0</td>\n",
       "      <td>0</td>\n",
       "    </tr>\n",
       "    <tr>\n",
       "      <th>3</th>\n",
       "      <td>4</td>\n",
       "      <td>35.0</td>\n",
       "      <td>1</td>\n",
       "      <td>0</td>\n",
       "      <td>0</td>\n",
       "      <td>1</td>\n",
       "      <td>0</td>\n",
       "      <td>0</td>\n",
       "      <td>0</td>\n",
       "      <td>1</td>\n",
       "      <td>...</td>\n",
       "      <td>0.382925</td>\n",
       "      <td>mrs</td>\n",
       "      <td>0</td>\n",
       "      <td>0</td>\n",
       "      <td>0</td>\n",
       "      <td>0</td>\n",
       "      <td>0</td>\n",
       "      <td>1</td>\n",
       "      <td>0</td>\n",
       "      <td>0</td>\n",
       "    </tr>\n",
       "    <tr>\n",
       "      <th>4</th>\n",
       "      <td>5</td>\n",
       "      <td>35.0</td>\n",
       "      <td>0</td>\n",
       "      <td>0</td>\n",
       "      <td>1</td>\n",
       "      <td>0</td>\n",
       "      <td>1</td>\n",
       "      <td>0</td>\n",
       "      <td>0</td>\n",
       "      <td>1</td>\n",
       "      <td>...</td>\n",
       "      <td>-0.488127</td>\n",
       "      <td>mr</td>\n",
       "      <td>0</td>\n",
       "      <td>0</td>\n",
       "      <td>0</td>\n",
       "      <td>0</td>\n",
       "      <td>1</td>\n",
       "      <td>0</td>\n",
       "      <td>0</td>\n",
       "      <td>0</td>\n",
       "    </tr>\n",
       "  </tbody>\n",
       "</table>\n",
       "<p>5 rows × 24 columns</p>\n",
       "</div>"
      ],
      "text/plain": [
       "   PassengerId   Age  Pclass_1  Pclass_2  Pclass_3  Sex_female  Sex_male  \\\n",
       "0            1  22.0         0         0         1           0         1   \n",
       "1            2  38.0         1         0         0           1         0   \n",
       "2            3  26.0         0         0         1           1         0   \n",
       "3            4  35.0         1         0         0           1         0   \n",
       "4            5  35.0         0         0         1           0         1   \n",
       "\n",
       "   Embarked_C  Embarked_Q  Embarked_S    ...      Fare_scaled  Title  \\\n",
       "0           0           0           1    ...        -0.503595     mr   \n",
       "1           1           0           0    ...         0.734503    mrs   \n",
       "2           0           0           1    ...        -0.490544   miss   \n",
       "3           0           0           1    ...         0.382925    mrs   \n",
       "4           0           0           1    ...        -0.488127     mr   \n",
       "\n",
       "   Title_dr  Title_lady  Title_master Title_miss  Title_mr  Title_mrs  \\\n",
       "0         0           0             0          0         1          0   \n",
       "1         0           0             0          0         0          1   \n",
       "2         0           0             0          1         0          0   \n",
       "3         0           0             0          0         0          1   \n",
       "4         0           0             0          0         1          0   \n",
       "\n",
       "   Title_rev  Title_sir  \n",
       "0          0          0  \n",
       "1          0          0  \n",
       "2          0          0  \n",
       "3          0          0  \n",
       "4          0          0  \n",
       "\n",
       "[5 rows x 24 columns]"
      ]
     },
     "execution_count": 172,
     "metadata": {},
     "output_type": "execute_result"
    }
   ],
   "source": [
    "features.head()"
   ]
  },
  {
   "cell_type": "markdown",
   "metadata": {
    "collapsed": true
   },
   "source": [
    "对年龄进行离散化处理，首先需要填充缺失值，泰坦尼克号中，女人和小孩的存活率最高，所以年龄其实是一个很重要的特征，因此，需要需要对年龄进行预测。在这里，我们采用其他特征来对年龄进行预测，用随机森林来进行预测。"
   ]
  },
  {
   "cell_type": "code",
   "execution_count": 180,
   "metadata": {
    "collapsed": false
   },
   "outputs": [],
   "source": [
    "# 用随机森林填充年龄\n",
    "from sklearn.ensemble import RandomForestRegressor\n",
    "# 划分训练数据集和测试数据集\n",
    "age_train_set = features[features['Age'].notnull()]\n",
    "age_test_set = features[features['Age'].isnull()]"
   ]
  },
  {
   "cell_type": "code",
   "execution_count": 181,
   "metadata": {
    "collapsed": false
   },
   "outputs": [],
   "source": [
    "# 进行特征训练\n",
    "age_train_features, age_train_targets = age_train_set.drop(['PassengerId', 'Age'], axis=1), age_train_set['Age']\n",
    "age_test_features = age_test_set.drop(['PassengerId', 'Age'], axis=1)"
   ]
  },
  {
   "cell_type": "code",
   "execution_count": 182,
   "metadata": {
    "collapsed": false
   },
   "outputs": [
    {
     "data": {
      "text/plain": [
       "RandomForestRegressor(bootstrap=True, criterion='mse', max_depth=None,\n",
       "           max_features='auto', max_leaf_nodes=None,\n",
       "           min_impurity_split=1e-07, min_samples_leaf=1,\n",
       "           min_samples_split=2, min_weight_fraction_leaf=0.0,\n",
       "           n_estimators=10, n_jobs=1, oob_score=False, random_state=None,\n",
       "           verbose=0, warm_start=False)"
      ]
     },
     "execution_count": 182,
     "metadata": {},
     "output_type": "execute_result"
    }
   ],
   "source": [
    "# 训练数据\n",
    "crg = RandomForestRegressor()\n",
    "crg.fit(age_train_features.values, age_train_targets.values)"
   ]
  },
  {
   "cell_type": "code",
   "execution_count": 183,
   "metadata": {
    "collapsed": true
   },
   "outputs": [],
   "source": [
    "preds = crg.predict(age_test_features.values)"
   ]
  },
  {
   "cell_type": "code",
   "execution_count": 184,
   "metadata": {
    "collapsed": false
   },
   "outputs": [],
   "source": [
    "# 填充Age\n",
    "features.loc[features['Age'].isnull(), 'Age'] = preds"
   ]
  },
  {
   "cell_type": "code",
   "execution_count": 185,
   "metadata": {
    "collapsed": false
   },
   "outputs": [
    {
     "data": {
      "text/plain": [
       "(array([  42.,   24.,   35.,   14.,   26.,   85.,  107.,  155.,  133.,\n",
       "         164.,   92.,   94.,   81.,   50.,   46.,   41.,   32.,   26.,\n",
       "          17.,   18.,   14.,    5.,    3.,    2.,    2.,    1.]),\n",
       " array([  0.17      ,   3.24038462,   6.31076923,   9.38115385,\n",
       "         12.45153846,  15.52192308,  18.59230769,  21.66269231,\n",
       "         24.73307692,  27.80346154,  30.87384615,  33.94423077,\n",
       "         37.01461538,  40.085     ,  43.15538462,  46.22576923,\n",
       "         49.29615385,  52.36653846,  55.43692308,  58.50730769,\n",
       "         61.57769231,  64.64807692,  67.71846154,  70.78884615,\n",
       "         73.85923077,  76.92961538,  80.        ]),\n",
       " <a list of 26 Patch objects>)"
      ]
     },
     "execution_count": 185,
     "metadata": {},
     "output_type": "execute_result"
    },
    {
     "data": {
      "image/png": "[encoded data removed]",
      "text/plain": [
       "<matplotlib.figure.Figure at 0x125e18090>"
      ]
     },
     "metadata": {
      "image/png": {
       "height": 250,
       "width": 377
      }
     },
     "output_type": "display_data"
    }
   ],
   "source": [
    "# 观察Age分布\n",
    "plt.hist(features['Age'].values, bins='auto')"
   ]
  },
  {
   "cell_type": "code",
   "execution_count": 186,
   "metadata": {
    "collapsed": false
   },
   "outputs": [],
   "source": [
    "# 年龄离散化处理\n",
    "def process_age(age):\n",
    "    if age <= 12:\n",
    "        return 1\n",
    "    else:\n",
    "        return 0"
   ]
  },
  {
   "cell_type": "code",
   "execution_count": 187,
   "metadata": {
    "collapsed": true
   },
   "outputs": [],
   "source": [
    "features['Age_new'] = map(process_age, features['Age'])"
   ]
  },
  {
   "cell_type": "code",
   "execution_count": 188,
   "metadata": {
    "collapsed": false
   },
   "outputs": [],
   "source": [
    "# 哑元化\n",
    "features = pd.concat([features, pd.get_dummies(features['Age_new'], prefix='Age')], axis=1)"
   ]
  },
  {
   "cell_type": "code",
   "execution_count": 189,
   "metadata": {
    "collapsed": false
   },
   "outputs": [],
   "source": [
    "features.drop(['Age', 'Age_new'], axis=1, inplace=True)"
   ]
  },
  {
   "cell_type": "markdown",
   "metadata": {},
   "source": [
    "# 4 建模\n",
    "下面将利用xgboost进行建模，实现预测"
   ]
  },
  {
   "cell_type": "code",
   "execution_count": 213,
   "metadata": {
    "collapsed": true
   },
   "outputs": [],
   "source": [
    "# 设置参数\n",
    "params = {\n",
    "    'booster':'gbtree',\n",
    "    'objective':'binary:logistic',# 输出概率\n",
    "    'gamma':0.05, # 基学习器进行进一步分支的最小阈值，越大会越不容易过拟合（越保守）\n",
    "    'max_depth':20, # the depth of tree\n",
    "    'subsample':0.6, # the size of subsample\n",
    "    'colsample_bytree':0.6, # the size of column subsample\n",
    "    'silent':1,\n",
    "    'eta':0.05, # learning rate，越小会越降低前面基学习器的权重\n",
    "    'seed':710,\n",
    "    'nthread':6\n",
    "}\n",
    "plst = list(params.items())"
   ]
  },
  {
   "cell_type": "code",
   "execution_count": 205,
   "metadata": {
    "collapsed": false
   },
   "outputs": [
    {
     "ename": "ValueError",
     "evalue": "labels ['PassengerId'] not contained in axis",
     "output_type": "error",
     "traceback": [
      "\u001b[0;31m---------------------------------------------------------------------------\u001b[0m",
      "\u001b[0;31mValueError\u001b[0m                                Traceback (most recent call last)",
      "\u001b[0;32m<ipython-input-205-c1201f961af1>\u001b[0m in \u001b[0;36m<module>\u001b[0;34m()\u001b[0m\n\u001b[1;32m      3\u001b[0m \u001b[0mtest_num\u001b[0m \u001b[0;34m=\u001b[0m \u001b[0mtest_data\u001b[0m\u001b[0;34m.\u001b[0m\u001b[0mshape\u001b[0m\u001b[0;34m[\u001b[0m\u001b[0;36m0\u001b[0m\u001b[0;34m]\u001b[0m\u001b[0;34m\u001b[0m\u001b[0m\n\u001b[1;32m      4\u001b[0m \u001b[0;31m# 将特征切分\u001b[0m\u001b[0;34m\u001b[0m\u001b[0;34m\u001b[0m\u001b[0m\n\u001b[0;32m----> 5\u001b[0;31m \u001b[0mfeatures\u001b[0m\u001b[0;34m.\u001b[0m\u001b[0mdrop\u001b[0m\u001b[0;34m(\u001b[0m\u001b[0;34m'PassengerId'\u001b[0m\u001b[0;34m,\u001b[0m \u001b[0maxis\u001b[0m\u001b[0;34m=\u001b[0m\u001b[0;36m1\u001b[0m\u001b[0;34m,\u001b[0m \u001b[0minplace\u001b[0m\u001b[0;34m=\u001b[0m\u001b[0mTrue\u001b[0m\u001b[0;34m)\u001b[0m\u001b[0;34m\u001b[0m\u001b[0m\n\u001b[0m\u001b[1;32m      6\u001b[0m \u001b[0mtrainset_features\u001b[0m \u001b[0;34m=\u001b[0m \u001b[0mfeatures\u001b[0m\u001b[0;34m.\u001b[0m\u001b[0miloc\u001b[0m\u001b[0;34m[\u001b[0m\u001b[0;34m:\u001b[0m\u001b[0mtrain_num\u001b[0m\u001b[0;34m,\u001b[0m \u001b[0;34m]\u001b[0m\u001b[0;34m.\u001b[0m\u001b[0mvalues\u001b[0m\u001b[0;34m\u001b[0m\u001b[0m\n\u001b[1;32m      7\u001b[0m \u001b[0mtrainset_targets\u001b[0m \u001b[0;34m=\u001b[0m \u001b[0mtrain_data\u001b[0m\u001b[0;34m[\u001b[0m\u001b[0;34m'Survived'\u001b[0m\u001b[0;34m]\u001b[0m\u001b[0;34m.\u001b[0m\u001b[0mvalues\u001b[0m\u001b[0;34m\u001b[0m\u001b[0m\n",
      "\u001b[0;32m/Users/Nelson/anaconda/lib/python2.7/site-packages/pandas/core/generic.pyc\u001b[0m in \u001b[0;36mdrop\u001b[0;34m(self, labels, axis, level, inplace, errors)\u001b[0m\n\u001b[1;32m   1905\u001b[0m                 \u001b[0mnew_axis\u001b[0m \u001b[0;34m=\u001b[0m \u001b[0maxis\u001b[0m\u001b[0;34m.\u001b[0m\u001b[0mdrop\u001b[0m\u001b[0;34m(\u001b[0m\u001b[0mlabels\u001b[0m\u001b[0;34m,\u001b[0m \u001b[0mlevel\u001b[0m\u001b[0;34m=\u001b[0m\u001b[0mlevel\u001b[0m\u001b[0;34m,\u001b[0m \u001b[0merrors\u001b[0m\u001b[0;34m=\u001b[0m\u001b[0merrors\u001b[0m\u001b[0;34m)\u001b[0m\u001b[0;34m\u001b[0m\u001b[0m\n\u001b[1;32m   1906\u001b[0m             \u001b[0;32melse\u001b[0m\u001b[0;34m:\u001b[0m\u001b[0;34m\u001b[0m\u001b[0m\n\u001b[0;32m-> 1907\u001b[0;31m                 \u001b[0mnew_axis\u001b[0m \u001b[0;34m=\u001b[0m \u001b[0maxis\u001b[0m\u001b[0;34m.\u001b[0m\u001b[0mdrop\u001b[0m\u001b[0;34m(\u001b[0m\u001b[0mlabels\u001b[0m\u001b[0;34m,\u001b[0m \u001b[0merrors\u001b[0m\u001b[0;34m=\u001b[0m\u001b[0merrors\u001b[0m\u001b[0;34m)\u001b[0m\u001b[0;34m\u001b[0m\u001b[0m\n\u001b[0m\u001b[1;32m   1908\u001b[0m             \u001b[0mdropped\u001b[0m \u001b[0;34m=\u001b[0m \u001b[0mself\u001b[0m\u001b[0;34m.\u001b[0m\u001b[0mreindex\u001b[0m\u001b[0;34m(\u001b[0m\u001b[0;34m**\u001b[0m\u001b[0;34m{\u001b[0m\u001b[0maxis_name\u001b[0m\u001b[0;34m:\u001b[0m \u001b[0mnew_axis\u001b[0m\u001b[0;34m}\u001b[0m\u001b[0;34m)\u001b[0m\u001b[0;34m\u001b[0m\u001b[0m\n\u001b[1;32m   1909\u001b[0m             \u001b[0;32mtry\u001b[0m\u001b[0;34m:\u001b[0m\u001b[0;34m\u001b[0m\u001b[0m\n",
      "\u001b[0;32m/Users/Nelson/anaconda/lib/python2.7/site-packages/pandas/indexes/base.pyc\u001b[0m in \u001b[0;36mdrop\u001b[0;34m(self, labels, errors)\u001b[0m\n\u001b[1;32m   3260\u001b[0m             \u001b[0;32mif\u001b[0m \u001b[0merrors\u001b[0m \u001b[0;34m!=\u001b[0m \u001b[0;34m'ignore'\u001b[0m\u001b[0;34m:\u001b[0m\u001b[0;34m\u001b[0m\u001b[0m\n\u001b[1;32m   3261\u001b[0m                 raise ValueError('labels %s not contained in axis' %\n\u001b[0;32m-> 3262\u001b[0;31m                                  labels[mask])\n\u001b[0m\u001b[1;32m   3263\u001b[0m             \u001b[0mindexer\u001b[0m \u001b[0;34m=\u001b[0m \u001b[0mindexer\u001b[0m\u001b[0;34m[\u001b[0m\u001b[0;34m~\u001b[0m\u001b[0mmask\u001b[0m\u001b[0;34m]\u001b[0m\u001b[0;34m\u001b[0m\u001b[0m\n\u001b[1;32m   3264\u001b[0m         \u001b[0;32mreturn\u001b[0m \u001b[0mself\u001b[0m\u001b[0;34m.\u001b[0m\u001b[0mdelete\u001b[0m\u001b[0;34m(\u001b[0m\u001b[0mindexer\u001b[0m\u001b[0;34m)\u001b[0m\u001b[0;34m\u001b[0m\u001b[0m\n",
      "\u001b[0;31mValueError\u001b[0m: labels ['PassengerId'] not contained in axis"
     ]
    }
   ],
   "source": [
    "# 切割数据集\n",
    "train_num = train_data.shape[0]\n",
    "test_num = test_data.shape[0]\n",
    "# 将特征切分\n",
    "features.drop('PassengerId', axis=1, inplace=True)\n",
    "trainset_features = features.iloc[:train_num, ].values\n",
    "trainset_targets = train_data['Survived'].values\n",
    "\n",
    "# 切分训练集和验证集\n",
    "from sklearn.model_selection import train_test_split\n",
    "X_train, X_val, y_train, y_val = train_test_split(trainset_features, trainset_targets, test_size=0.3, random_state=123)\n",
    "# test\n",
    "X_test = features.iloc[train_num:, ].values"
   ]
  },
  {
   "cell_type": "code",
   "execution_count": 206,
   "metadata": {
    "collapsed": true
   },
   "outputs": [],
   "source": [
    "# 转换成XBG格式\n",
    "train = xgb.DMatrix(X_train, label=y_train)\n",
    "val = xgb.DMatrix(X_val, label=y_val)\n",
    "test = xgb.DMatrix(X_test)"
   ]
  },
  {
   "cell_type": "code",
   "execution_count": 207,
   "metadata": {
    "collapsed": true
   },
   "outputs": [],
   "source": [
    "watchlist = [(train, 'train'), (val, 'validation')]\n",
    "num_rounds = 100"
   ]
  },
  {
   "cell_type": "code",
   "execution_count": 208,
   "metadata": {
    "collapsed": false
   },
   "outputs": [
    {
     "name": "stderr",
     "output_type": "stream",
     "text": [
      "Will train until validation error hasn't decreased in 20 rounds.\n",
      "[0]\ttrain-error:0.211878\tvalidation-error:0.231343\n",
      "[1]\ttrain-error:0.231140\tvalidation-error:0.231343\n",
      "[2]\ttrain-error:0.224719\tvalidation-error:0.205224\n",
      "[3]\ttrain-error:0.208668\tvalidation-error:0.186567\n",
      "[4]\ttrain-error:0.192616\tvalidation-error:0.175373\n",
      "[5]\ttrain-error:0.157303\tvalidation-error:0.141791\n",
      "[6]\ttrain-error:0.152488\tvalidation-error:0.141791\n",
      "[7]\ttrain-error:0.152488\tvalidation-error:0.134328\n",
      "[8]\ttrain-error:0.155698\tvalidation-error:0.149254\n",
      "[9]\ttrain-error:0.154093\tvalidation-error:0.141791\n",
      "[10]\ttrain-error:0.147673\tvalidation-error:0.141791\n",
      "[11]\ttrain-error:0.152488\tvalidation-error:0.134328\n",
      "[12]\ttrain-error:0.160514\tvalidation-error:0.149254\n",
      "[13]\ttrain-error:0.154093\tvalidation-error:0.145522\n",
      "[14]\ttrain-error:0.154093\tvalidation-error:0.145522\n",
      "[15]\ttrain-error:0.157303\tvalidation-error:0.145522\n",
      "[16]\ttrain-error:0.158909\tvalidation-error:0.145522\n",
      "[17]\ttrain-error:0.154093\tvalidation-error:0.141791\n",
      "[18]\ttrain-error:0.154093\tvalidation-error:0.145522\n",
      "[19]\ttrain-error:0.157303\tvalidation-error:0.141791\n",
      "[20]\ttrain-error:0.158909\tvalidation-error:0.141791\n",
      "[21]\ttrain-error:0.158909\tvalidation-error:0.138060\n",
      "[22]\ttrain-error:0.154093\tvalidation-error:0.134328\n",
      "[23]\ttrain-error:0.155698\tvalidation-error:0.138060\n",
      "[24]\ttrain-error:0.154093\tvalidation-error:0.138060\n",
      "[25]\ttrain-error:0.157303\tvalidation-error:0.138060\n",
      "[26]\ttrain-error:0.154093\tvalidation-error:0.134328\n",
      "[27]\ttrain-error:0.155698\tvalidation-error:0.145522\n",
      "Stopping. Best iteration:\n",
      "[7]\ttrain-error:0.152488\tvalidation-error:0.134328\n",
      "\n"
     ]
    }
   ],
   "source": [
    "# 训练\n",
    "model = xgb.train(plst, train, num_rounds, watchlist, early_stopping_rounds=20)"
   ]
  },
  {
   "cell_type": "code",
   "execution_count": 209,
   "metadata": {
    "collapsed": true
   },
   "outputs": [],
   "source": [
    "result = model.predict(test)"
   ]
  },
  {
   "cell_type": "code",
   "execution_count": 210,
   "metadata": {
    "collapsed": true
   },
   "outputs": [],
   "source": [
    "pred_label = map(lambda x: int(x>=0.5), result)"
   ]
  },
  {
   "cell_type": "code",
   "execution_count": 211,
   "metadata": {
    "collapsed": false
   },
   "outputs": [],
   "source": [
    "submission = zip(test_data['PassengerId'].values.tolist(), pred_label)"
   ]
  },
  {
   "cell_type": "code",
   "execution_count": 212,
   "metadata": {
    "collapsed": false
   },
   "outputs": [],
   "source": [
    "with open('/Users/Nelson/Desktop/Computer/Kaggle/Titanic/datasets/xgb_submission3.csv', 'a') as f:\n",
    "    f.write('PassengerId,Survived\\n')\n",
    "    for row in submission:\n",
    "        f.write(str(row[0]) + ',' + str(row[1]) + '\\n')"
   ]
  },
  {
   "cell_type": "markdown",
   "metadata": {},
   "source": [
    "# 总结\n",
    "## 结果\n",
    "提交结果为0.79426，排名1793/6800\n",
    "\n",
    "## 反思\n",
    "- Ticket数据没有利用\n",
    "- 没有新生成的特征\n",
    "- 没有做特征筛选\n",
    "- 特征分布还需要进一步处理"
   ]
  },
  {
   "cell_type": "code",
   "execution_count": null,
   "metadata": {
    "collapsed": true
   },
   "outputs": [],
   "source": []
  }
 ],
 "metadata": {
  "kernelspec": {
   "display_name": "Python 2",
   "language": "python",
   "name": "python2"
  },
  "language_info": {
   "codemirror_mode": {
    "name": "ipython",
    "version": 2
   },
   "file_extension": ".py",
   "mimetype": "text/x-python",
   "name": "python",
   "nbconvert_exporter": "python",
   "pygments_lexer": "ipython2",
   "version": "2.7.13"
  }
 },
 "nbformat": 4,
 "nbformat_minor": 2
}
